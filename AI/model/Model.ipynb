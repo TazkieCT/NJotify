{
 "cells": [
  {
   "cell_type": "markdown",
   "metadata": {},
   "source": [
    "Extract Data From Dataset"
   ]
  },
  {
   "cell_type": "code",
   "execution_count": 13,
   "metadata": {},
   "outputs": [],
   "source": [
    "import pandas as pd\n",
    "#Baca dataset\n",
    "train_data = pd.read_csv('../dataset/train.csv')\n",
    "test_data = pd.read_csv('../dataset/test.csv')"
   ]
  },
  {
   "cell_type": "markdown",
   "metadata": {},
   "source": [
    "Clean Data and Preprocessing"
   ]
  },
  {
   "cell_type": "code",
   "execution_count": 14,
   "metadata": {},
   "outputs": [],
   "source": [
    "import numpy as np\n",
    "import tensorflow as tf\n",
    "from sklearn.model_selection import train_test_split\n",
    "from tensorflow.keras.preprocessing.text import Tokenizer\n",
    "from tensorflow.keras.preprocessing.sequence import pad_sequences\n",
    "from sklearn.preprocessing import LabelEncoder"
   ]
  },
  {
   "cell_type": "code",
   "execution_count": 15,
   "metadata": {},
   "outputs": [],
   "source": [
    "# Ensure all lyrics are strings and handle missing values\n",
    "train_data['Lyrics'] = train_data['Lyrics'].astype(str)\n",
    "test_data['Lyrics'] = test_data['Lyrics'].astype(str)\n",
    "train_data = train_data.dropna(subset=['Lyrics'])\n",
    "test_data = test_data.dropna(subset=['Lyrics'])\n",
    "\n",
    "# Encode artist labels\n",
    "label_encoder = LabelEncoder()\n",
    "label_encoder.fit(train_data['Artist'])\n",
    "y_train = label_encoder.transform(train_data['Artist'])\n",
    "\n",
    "# Filter out unseen labels in the test set\n",
    "test_data_filtered = test_data[test_data['Artist'].isin(label_encoder.classes_)]\n",
    "y_test = label_encoder.transform(test_data_filtered['Artist'])\n",
    "\n",
    "# Preprocess lyrics text\n",
    "tokenizer = Tokenizer(num_words=10000)\n",
    "tokenizer.fit_on_texts(train_data['Lyrics'])\n",
    "train_sequences = tokenizer.texts_to_sequences(train_data['Lyrics'])\n",
    "test_sequences = tokenizer.texts_to_sequences(test_data_filtered['Lyrics'])\n",
    "X_train = pad_sequences(train_sequences, maxlen=500)\n",
    "X_test = pad_sequences(test_sequences, maxlen=500)"
   ]
  },
  {
   "cell_type": "code",
   "execution_count": 16,
   "metadata": {},
   "outputs": [
    {
     "name": "stdout",
     "output_type": "stream",
     "text": [
      "290183\n",
      "290183\n"
     ]
    }
   ],
   "source": [
    "print(len(X_train))\n",
    "print(len(y_train))"
   ]
  },
  {
   "cell_type": "code",
   "execution_count": 17,
   "metadata": {},
   "outputs": [
    {
     "name": "stdout",
     "output_type": "stream",
     "text": [
      "Model: \"sequential_1\"\n",
      "_________________________________________________________________\n",
      " Layer (type)                Output Shape              Param #   \n",
      "=================================================================\n",
      " embedding_1 (Embedding)     (None, 500, 128)          1280000   \n",
      "                                                                 \n",
      " bidirectional_2 (Bidirectio  (None, 500, 128)         98816     \n",
      " nal)                                                            \n",
      "                                                                 \n",
      " dropout_2 (Dropout)         (None, 500, 128)          0         \n",
      "                                                                 \n",
      " bidirectional_3 (Bidirectio  (None, 128)              98816     \n",
      " nal)                                                            \n",
      "                                                                 \n",
      " dropout_3 (Dropout)         (None, 128)               0         \n",
      "                                                                 \n",
      " dense_1 (Dense)             (None, 11152)             1438608   \n",
      "                                                                 \n",
      "=================================================================\n",
      "Total params: 2,916,240\n",
      "Trainable params: 2,916,240\n",
      "Non-trainable params: 0\n",
      "_________________________________________________________________\n"
     ]
    }
   ],
   "source": [
    "from tensorflow.keras.models import Sequential\n",
    "from tensorflow.keras.layers import Embedding, LSTM, Dense, Dropout, Bidirectional\n",
    "\n",
    "model = Sequential()\n",
    "model.add(Embedding(input_dim=10000, output_dim=128, input_length=500))\n",
    "model.add(Bidirectional(LSTM(64, return_sequences=True)))\n",
    "model.add(Dropout(0.5))\n",
    "model.add(Bidirectional(LSTM(64)))\n",
    "model.add(Dropout(0.5))\n",
    "model.add(Dense(len(label_encoder.classes_), activation='softmax'))\n",
    "\n",
    "model.compile(loss='sparse_categorical_crossentropy', optimizer='adam', metrics=['accuracy'])\n",
    "model.summary()"
   ]
  },
  {
   "cell_type": "code",
   "execution_count": 18,
   "metadata": {},
   "outputs": [
    {
     "name": "stdout",
     "output_type": "stream",
     "text": [
      "Epoch 1/100\n",
      "4535/4535 [==============================] - 663s 145ms/step - loss: 7.7812 - accuracy: 0.0096 - val_loss: 9.8079 - val_accuracy: 0.0000e+00\n",
      "Epoch 2/100\n",
      "4535/4535 [==============================] - 595s 131ms/step - loss: 7.3661 - accuracy: 0.0143 - val_loss: 9.6162 - val_accuracy: 0.0000e+00\n",
      "Epoch 3/100\n",
      "4535/4535 [==============================] - 597s 132ms/step - loss: 7.1920 - accuracy: 0.0183 - val_loss: 9.6348 - val_accuracy: 0.0000e+00\n",
      "Epoch 4/100\n",
      "4535/4535 [==============================] - 593s 131ms/step - loss: 7.0390 - accuracy: 0.0226 - val_loss: 9.6237 - val_accuracy: 5.3505e-04\n",
      "Epoch 5/100\n",
      "4535/4535 [==============================] - 597s 132ms/step - loss: 6.8451 - accuracy: 0.0299 - val_loss: 9.1735 - val_accuracy: 0.0016\n",
      "Epoch 6/100\n",
      "4535/4535 [==============================] - 600s 132ms/step - loss: 6.6437 - accuracy: 0.0380 - val_loss: 9.1172 - val_accuracy: 0.0048\n",
      "Epoch 7/100\n",
      "4535/4535 [==============================] - 609s 134ms/step - loss: 6.4815 - accuracy: 0.0453 - val_loss: 9.0578 - val_accuracy: 0.0091\n",
      "Epoch 8/100\n",
      "4535/4535 [==============================] - 640s 141ms/step - loss: 6.3456 - accuracy: 0.0541 - val_loss: 8.9974 - val_accuracy: 0.0182\n",
      "Epoch 9/100\n",
      "4535/4535 [==============================] - 665s 147ms/step - loss: 6.2228 - accuracy: 0.0622 - val_loss: 9.1691 - val_accuracy: 0.0203\n",
      "Epoch 10/100\n",
      "4535/4535 [==============================] - 618s 136ms/step - loss: 6.1079 - accuracy: 0.0705 - val_loss: 8.9454 - val_accuracy: 0.0214\n",
      "Epoch 11/100\n",
      "4535/4535 [==============================] - 654s 144ms/step - loss: 5.9904 - accuracy: 0.0792 - val_loss: 8.9173 - val_accuracy: 0.0203\n",
      "Epoch 12/100\n",
      "4535/4535 [==============================] - 619s 137ms/step - loss: 5.8815 - accuracy: 0.0882 - val_loss: 8.8640 - val_accuracy: 0.0273\n",
      "Epoch 13/100\n",
      "4535/4535 [==============================] - 684s 151ms/step - loss: 5.7747 - accuracy: 0.0969 - val_loss: 8.9212 - val_accuracy: 0.0300\n",
      "Epoch 14/100\n",
      "4535/4535 [==============================] - 597s 132ms/step - loss: 5.6756 - accuracy: 0.1052 - val_loss: 8.9769 - val_accuracy: 0.0289\n",
      "Epoch 15/100\n",
      "4535/4535 [==============================] - 605s 133ms/step - loss: 5.5801 - accuracy: 0.1143 - val_loss: 8.9962 - val_accuracy: 0.0326\n"
     ]
    }
   ],
   "source": [
    "from tensorflow.keras.callbacks import EarlyStopping, ModelCheckpoint\n",
    "\n",
    "early_stopping = EarlyStopping(monitor='val_loss', patience=3, restore_best_weights=True)\n",
    "model_checkpoint = ModelCheckpoint('best_model.h5', monitor='val_loss', save_best_only=True, save_weights_only=True)\n",
    "\n",
    "history = model.fit(X_train, y_train, \n",
    "                    epochs=100, \n",
    "                    batch_size=64, \n",
    "                    validation_data=(X_test, y_test), \n",
    "                    callbacks=[early_stopping, model_checkpoint])\n"
   ]
  },
  {
   "cell_type": "code",
   "execution_count": 20,
   "metadata": {},
   "outputs": [],
   "source": [
    "model.save('backup_model.h5')"
   ]
  },
  {
   "cell_type": "code",
   "execution_count": null,
   "metadata": {},
   "outputs": [],
   "source": [
    "find_model = tf.keras.models.load_model('best_model.h5')"
   ]
  },
  {
   "cell_type": "code",
   "execution_count": 9,
   "metadata": {},
   "outputs": [],
   "source": [
    "import pickle\n",
    "# Save the tokenizer\n",
    "with open('tokenizer.pickle', 'wb') as handle:\n",
    "    pickle.dump(tokenizer, handle, protocol=pickle.HIGHEST_PROTOCOL)\n",
    "\n",
    "# Save the label encoder\n",
    "with open('label_encoder.pickle', 'wb') as handle:\n",
    "    pickle.dump(label_encoder, handle, protocol=pickle.HIGHEST_PROTOCOL)"
   ]
  }
 ],
 "metadata": {
  "kernelspec": {
   "display_name": "audio_class",
   "language": "python",
   "name": "python3"
  },
  "language_info": {
   "codemirror_mode": {
    "name": "ipython",
    "version": 3
   },
   "file_extension": ".py",
   "mimetype": "text/x-python",
   "name": "python",
   "nbconvert_exporter": "python",
   "pygments_lexer": "ipython3",
   "version": "3.10.14"
  }
 },
 "nbformat": 4,
 "nbformat_minor": 2
}
