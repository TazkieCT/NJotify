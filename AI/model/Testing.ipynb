{
 "cells": [
  {
   "cell_type": "code",
   "execution_count": 1,
   "metadata": {},
   "outputs": [],
   "source": [
    "import tensorflow as tf\n",
    "from tensorflow.keras.preprocessing.text import Tokenizer\n",
    "from tensorflow.keras.preprocessing.sequence import pad_sequences\n",
    "from sklearn.preprocessing import LabelEncoder\n",
    "import pandas as pd\n",
    "import pickle, joblib\n",
    "import numpy as np"
   ]
  },
  {
   "cell_type": "code",
   "execution_count": 2,
   "metadata": {},
   "outputs": [],
   "source": [
    "find_model = tf.keras.models.load_model('final_model.h5')"
   ]
  },
  {
   "cell_type": "code",
   "execution_count": 3,
   "metadata": {},
   "outputs": [],
   "source": [
    "# Load the tokenizer\n",
    "with open('tokenizer.pickle', 'rb') as handle:\n",
    "    tokenizer = pickle.load(handle)\n",
    "\n",
    "# Load the label encoder\n",
    "with open('label_encoder.pickle', 'rb') as handle:\n",
    "    label_encoder = pickle.load(handle)"
   ]
  },
  {
   "cell_type": "code",
   "execution_count": 4,
   "metadata": {},
   "outputs": [],
   "source": [
    "def predict_artist(lyrics):\n",
    "\n",
    "    sequence = tokenizer.texts_to_sequences([lyrics])\n",
    "    padded_sequence = pad_sequences(sequence, maxlen=500)\n",
    "\n",
    "    prediction = find_model.predict(padded_sequence)\n",
    "\n",
    "    artist_index = np.argmax(prediction)\n",
    "    artist = label_encoder.inverse_transform([artist_index])\n",
    "    \n",
    "    return artist[0]"
   ]
  },
  {
   "cell_type": "code",
   "execution_count": 5,
   "metadata": {},
   "outputs": [
    {
     "name": "stdout",
     "output_type": "stream",
     "text": [
      "1/1 [==============================] - 3s 3s/step\n",
      "Predicted Artist: low\n"
     ]
    }
   ],
   "source": [
    "lyrics = \"Most folks spend their days daydreaming of finding clues...\"\n",
    "predicted_artist = predict_artist(lyrics)\n",
    "print(f'Predicted Artist: {predicted_artist}')"
   ]
  }
 ],
 "metadata": {
  "kernelspec": {
   "display_name": "Miku_AI",
   "language": "python",
   "name": "python3"
  },
  "language_info": {
   "codemirror_mode": {
    "name": "ipython",
    "version": 3
   },
   "file_extension": ".py",
   "mimetype": "text/x-python",
   "name": "python",
   "nbconvert_exporter": "python",
   "pygments_lexer": "ipython3",
   "version": "3.10.14"
  }
 },
 "nbformat": 4,
 "nbformat_minor": 2
}
